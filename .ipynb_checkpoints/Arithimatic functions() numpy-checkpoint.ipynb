{
 "cells": [
  {
   "cell_type": "markdown",
   "id": "bd94d815",
   "metadata": {},
   "source": [
    "# Aritimatic Functions()"
   ]
  },
  {
   "cell_type": "code",
   "execution_count": null,
   "id": "bd73ccb1",
   "metadata": {},
   "outputs": [],
   "source": [
    "import numpy as np"
   ]
  },
  {
   "cell_type": "code",
   "execution_count": 11,
   "id": "e129d0d7",
   "metadata": {},
   "outputs": [
    {
     "name": "stdout",
     "output_type": "stream",
     "text": [
      "man:  7 6\n",
      "mix:  1 0\n",
      "sqrt:  [1.         1.41421356 1.73205081 2.         2.23606798 2.44948974\n",
      " 2.64575131]\n"
     ]
    }
   ],
   "source": [
    "var=np.array([1,2,3,4,5,6,7])\n",
    "print(\"man: \", np.max(var), np.argmax(var))\n",
    "print(\"mix: \", np.min(var), np.argmin(var))\n",
    "print(\"sqrt: \", np.sqrt(var))"
   ]
  },
  {
   "cell_type": "code",
   "execution_count": 10,
   "id": "81d65a1d",
   "metadata": {},
   "outputs": [
    {
     "name": "stdout",
     "output_type": "stream",
     "text": [
      "[1 5]\n",
      "[1 2 3 4]\n"
     ]
    }
   ],
   "source": [
    "var1=np.array([[1,2,3,4],[5,6,7,8]])\n",
    "print(np.min(var1, axis=1))\n",
    "print(np.min(var1, axis=0))"
   ]
  },
  {
   "cell_type": "code",
   "execution_count": 15,
   "id": "2f1662e5",
   "metadata": {},
   "outputs": [
    {
     "name": "stdout",
     "output_type": "stream",
     "text": [
      "[ 0.84147098  0.90929743  0.14112001 -0.7568025  -0.95892427 -0.2794155\n",
      "  0.6569866 ]\n",
      "[ 0.54030231 -0.41614684 -0.9899925  -0.65364362  0.28366219  0.96017029\n",
      "  0.75390225]\n",
      "[1 3 6]\n",
      "[1 2 6]\n",
      "[1 2 6]\n"
     ]
    }
   ],
   "source": [
    "#sin0 and cos0\n",
    "var2=np.array([1,2,3])\n",
    "print(np.sin(var))\n",
    "print(np.cos(var))\n",
    "print(np.cumsum(var2))  #1=1,  1+2=3,   1+2+3=6\n",
    "print(np.cumproduct(var2))\n",
    "print(np.cumprod(var2))"
   ]
  },
  {
   "cell_type": "code",
   "execution_count": null,
   "id": "c9e5a06c",
   "metadata": {},
   "outputs": [],
   "source": []
  }
 ],
 "metadata": {
  "kernelspec": {
   "display_name": "Python 3 (ipykernel)",
   "language": "python",
   "name": "python3"
  },
  "language_info": {
   "codemirror_mode": {
    "name": "ipython",
    "version": 3
   },
   "file_extension": ".py",
   "mimetype": "text/x-python",
   "name": "python",
   "nbconvert_exporter": "python",
   "pygments_lexer": "ipython3",
   "version": "3.10.6"
  },
  "varInspector": {
   "cols": {
    "lenName": 16,
    "lenType": 16,
    "lenVar": 40
   },
   "kernels_config": {
    "python": {
     "delete_cmd_postfix": "",
     "delete_cmd_prefix": "del ",
     "library": "var_list.py",
     "varRefreshCmd": "print(var_dic_list())"
    },
    "r": {
     "delete_cmd_postfix": ") ",
     "delete_cmd_prefix": "rm(",
     "library": "var_list.r",
     "varRefreshCmd": "cat(var_dic_list()) "
    }
   },
   "types_to_exclude": [
    "module",
    "function",
    "builtin_function_or_method",
    "instance",
    "_Feature"
   ],
   "window_display": false
  }
 },
 "nbformat": 4,
 "nbformat_minor": 5
}
