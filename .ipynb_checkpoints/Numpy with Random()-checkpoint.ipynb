{
 "cells": [
  {
   "cell_type": "markdown",
   "id": "81ec7672",
   "metadata": {},
   "source": [
    "# Random"
   ]
  },
  {
   "cell_type": "markdown",
   "id": "bb2ce6d7",
   "metadata": {},
   "source": [
    "# Rand()"
   ]
  },
  {
   "cell_type": "code",
   "execution_count": 1,
   "id": "cf1c0ad5",
   "metadata": {},
   "outputs": [],
   "source": [
    "import numpy as np"
   ]
  },
  {
   "cell_type": "code",
   "execution_count": 7,
   "id": "3f77f6a8",
   "metadata": {},
   "outputs": [
    {
     "name": "stdout",
     "output_type": "stream",
     "text": [
      "[0.72187579 0.68913357 0.36511127 0.64951368]\n"
     ]
    }
   ],
   "source": [
    "var=np.random.rand(4)\n",
    "print(var)"
   ]
  },
  {
   "cell_type": "code",
   "execution_count": 8,
   "id": "7f831b6d",
   "metadata": {},
   "outputs": [
    {
     "name": "stdout",
     "output_type": "stream",
     "text": [
      "[[0.41818173 0.53891658 0.15175313 0.06940629]\n",
      " [0.24383762 0.87912305 0.11586166 0.39950603]]\n"
     ]
    }
   ],
   "source": [
    "var1=np.random.rand(2,4)\n",
    "print(var1)"
   ]
  },
  {
   "cell_type": "code",
   "execution_count": 9,
   "id": "e025a54c",
   "metadata": {},
   "outputs": [
    {
     "name": "stdout",
     "output_type": "stream",
     "text": [
      "[[[0.46052672 0.79660794 0.85322044]\n",
      "  [0.1826272  0.27678317 0.77872229]\n",
      "  [0.10080848 0.53297666 0.11023908]\n",
      "  [0.16441324 0.73723719 0.03797914]]\n",
      "\n",
      " [[0.60510915 0.04762585 0.43642529]\n",
      "  [0.03838998 0.9807082  0.54769612]\n",
      "  [0.81803983 0.29827626 0.85511011]\n",
      "  [0.95215448 0.0179226  0.66840058]]]\n"
     ]
    }
   ],
   "source": [
    "var2=np.random.rand(2,4,3)\n",
    "print(var2)"
   ]
  },
  {
   "cell_type": "markdown",
   "id": "e80b2f3c",
   "metadata": {},
   "source": [
    "# randn()"
   ]
  },
  {
   "cell_type": "code",
   "execution_count": 10,
   "id": "45a41216",
   "metadata": {},
   "outputs": [
    {
     "name": "stdout",
     "output_type": "stream",
     "text": [
      "[-0.93363255 -1.15376405 -1.31217712 -0.22224721  0.82950451]\n"
     ]
    }
   ],
   "source": [
    "var3=np.random.randn(5)\n",
    "print(var3)"
   ]
  },
  {
   "cell_type": "code",
   "execution_count": 11,
   "id": "1305d44f",
   "metadata": {},
   "outputs": [
    {
     "name": "stdout",
     "output_type": "stream",
     "text": [
      "[[-1.06489567  1.29638625 -0.11802535  1.00196433]\n",
      " [ 1.00564346  2.71992803  1.98141102 -1.4573997 ]]\n"
     ]
    }
   ],
   "source": [
    "var4=np.random.randn(2,4)\n",
    "print(var4)"
   ]
  },
  {
   "cell_type": "markdown",
   "id": "3dab1a74",
   "metadata": {},
   "source": [
    "# randf()"
   ]
  },
  {
   "cell_type": "code",
   "execution_count": 12,
   "id": "d45f438b",
   "metadata": {},
   "outputs": [
    {
     "name": "stdout",
     "output_type": "stream",
     "text": [
      "[0.26435034 0.84895913 0.50470892 0.60065544]\n"
     ]
    }
   ],
   "source": [
    "var5=np.random.ranf(4)\n",
    "print(var5)"
   ]
  },
  {
   "cell_type": "code",
   "execution_count": 14,
   "id": "02386036",
   "metadata": {},
   "outputs": [
    {
     "name": "stdout",
     "output_type": "stream",
     "text": [
      "9\n"
     ]
    }
   ],
   "source": [
    "var6=np.random.randint(2,10)\n",
    "print(var6)"
   ]
  },
  {
   "cell_type": "code",
   "execution_count": 15,
   "id": "b749b2be",
   "metadata": {},
   "outputs": [
    {
     "name": "stdout",
     "output_type": "stream",
     "text": [
      "[9 9 9 2 6 8 9 4]\n"
     ]
    }
   ],
   "source": [
    "var6=np.random.randint(2,10,8)\n",
    "print(var6)"
   ]
  },
  {
   "cell_type": "code",
   "execution_count": null,
   "id": "93c62952",
   "metadata": {},
   "outputs": [],
   "source": []
  }
 ],
 "metadata": {
  "kernelspec": {
   "display_name": "Python 3 (ipykernel)",
   "language": "python",
   "name": "python3"
  },
  "language_info": {
   "codemirror_mode": {
    "name": "ipython",
    "version": 3
   },
   "file_extension": ".py",
   "mimetype": "text/x-python",
   "name": "python",
   "nbconvert_exporter": "python",
   "pygments_lexer": "ipython3",
   "version": "3.10.6"
  },
  "varInspector": {
   "cols": {
    "lenName": 16,
    "lenType": 16,
    "lenVar": 40
   },
   "kernels_config": {
    "python": {
     "delete_cmd_postfix": "",
     "delete_cmd_prefix": "del ",
     "library": "var_list.py",
     "varRefreshCmd": "print(var_dic_list())"
    },
    "r": {
     "delete_cmd_postfix": ") ",
     "delete_cmd_prefix": "rm(",
     "library": "var_list.r",
     "varRefreshCmd": "cat(var_dic_list()) "
    }
   },
   "types_to_exclude": [
    "module",
    "function",
    "builtin_function_or_method",
    "instance",
    "_Feature"
   ],
   "window_display": false
  }
 },
 "nbformat": 4,
 "nbformat_minor": 5
}
