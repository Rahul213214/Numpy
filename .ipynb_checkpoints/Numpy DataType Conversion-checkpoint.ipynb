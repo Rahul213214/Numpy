{
 "cells": [
  {
   "cell_type": "markdown",
   "id": "18da8f5e",
   "metadata": {},
   "source": [
    "# Data Type"
   ]
  },
  {
   "cell_type": "code",
   "execution_count": 1,
   "id": "738763e0",
   "metadata": {},
   "outputs": [],
   "source": [
    "import numpy as np"
   ]
  },
  {
   "cell_type": "code",
   "execution_count": 3,
   "id": "6c2436ce",
   "metadata": {},
   "outputs": [
    {
     "name": "stdout",
     "output_type": "stream",
     "text": [
      "[1 2 3 4 5 6 7]\n",
      "data type:  int32\n"
     ]
    }
   ],
   "source": [
    "var= np.array([1,2,3,4,5,6,7])\n",
    "print(var)\n",
    "print(\"data type: \",var.dtype)"
   ]
  },
  {
   "cell_type": "code",
   "execution_count": 4,
   "id": "052e727d",
   "metadata": {},
   "outputs": [
    {
     "name": "stdout",
     "output_type": "stream",
     "text": [
      "[1. 2. 3. 4. 5. 6. 7.]\n",
      "data type:  float64\n"
     ]
    }
   ],
   "source": [
    "var= np.array([1.0,2,3,4,5.0,6,7])\n",
    "print(var)\n",
    "print(\"data type: \",var.dtype)"
   ]
  },
  {
   "cell_type": "code",
   "execution_count": 5,
   "id": "1c06d149",
   "metadata": {},
   "outputs": [
    {
     "name": "stdout",
     "output_type": "stream",
     "text": [
      "['a' 'B' 'rahul']\n",
      "data type:  <U5\n"
     ]
    }
   ],
   "source": [
    "var= np.array([\"a\",'B',\"rahul\"])\n",
    "print(var)\n",
    "print(\"data type: \",var.dtype)"
   ]
  },
  {
   "cell_type": "code",
   "execution_count": 6,
   "id": "f41b2b07",
   "metadata": {},
   "outputs": [
    {
     "name": "stdout",
     "output_type": "stream",
     "text": [
      "['1' '2' '3' '4' 'a' 'B' 'rahul']\n",
      "data type:  <U11\n"
     ]
    }
   ],
   "source": [
    "var= np.array([1,2,3,4,\"a\",'B',\"rahul\"])\n",
    "print(var)\n",
    "print(\"data type: \",var.dtype)"
   ]
  },
  {
   "cell_type": "code",
   "execution_count": 11,
   "id": "99858991",
   "metadata": {},
   "outputs": [
    {
     "name": "stdout",
     "output_type": "stream",
     "text": [
      "Data type:  int8\n",
      "[1 2 3 4 5]\n"
     ]
    }
   ],
   "source": [
    "var= np.array([1.0,2,3,4,5], dtype=np.int8)\n",
    "print(\"Data type: \", var.dtype)\n",
    "print(var)"
   ]
  },
  {
   "cell_type": "code",
   "execution_count": 15,
   "id": "c87341aa",
   "metadata": {},
   "outputs": [
    {
     "name": "stdout",
     "output_type": "stream",
     "text": [
      "Data type:  int32\n",
      "[1 2 3 4 5]\n"
     ]
    }
   ],
   "source": [
    "var= np.array([1.0,2,3,4,5], dtype=\"i\")  #float --> int\n",
    "print(\"Data type: \", var.dtype)\n",
    "print(var)"
   ]
  },
  {
   "cell_type": "code",
   "execution_count": 17,
   "id": "60c87d4e",
   "metadata": {},
   "outputs": [
    {
     "name": "stdout",
     "output_type": "stream",
     "text": [
      "Data type:  int8\n",
      "Data type:  float32\n",
      "[1 2 3 4 5]\n",
      "[1. 2. 3. 4. 5.]\n"
     ]
    }
   ],
   "source": [
    "var= np.array([1,2,3,4,5], dtype=np.int8)\n",
    "new=np.float32(var)\n",
    "print(\"Data type: \", var.dtype)\n",
    "print(\"Data type: \", new.dtype)\n",
    "print(var)\n",
    "print(new)"
   ]
  },
  {
   "cell_type": "code",
   "execution_count": 18,
   "id": "63eef1a1",
   "metadata": {},
   "outputs": [
    {
     "name": "stdout",
     "output_type": "stream",
     "text": [
      "[1 2 3 4 5]\n",
      "[1. 2. 3. 4. 5.]\n"
     ]
    }
   ],
   "source": [
    "x3=np.array([1,2,3,4,5])\n",
    "new_1=x3.astype(float)\n",
    "print(x3)\n",
    "print(new_1)"
   ]
  },
  {
   "cell_type": "code",
   "execution_count": null,
   "id": "679b0e5f",
   "metadata": {},
   "outputs": [],
   "source": []
  }
 ],
 "metadata": {
  "kernelspec": {
   "display_name": "Python 3 (ipykernel)",
   "language": "python",
   "name": "python3"
  },
  "language_info": {
   "codemirror_mode": {
    "name": "ipython",
    "version": 3
   },
   "file_extension": ".py",
   "mimetype": "text/x-python",
   "name": "python",
   "nbconvert_exporter": "python",
   "pygments_lexer": "ipython3",
   "version": "3.10.6"
  },
  "varInspector": {
   "cols": {
    "lenName": 16,
    "lenType": 16,
    "lenVar": 40
   },
   "kernels_config": {
    "python": {
     "delete_cmd_postfix": "",
     "delete_cmd_prefix": "del ",
     "library": "var_list.py",
     "varRefreshCmd": "print(var_dic_list())"
    },
    "r": {
     "delete_cmd_postfix": ") ",
     "delete_cmd_prefix": "rm(",
     "library": "var_list.r",
     "varRefreshCmd": "cat(var_dic_list()) "
    }
   },
   "types_to_exclude": [
    "module",
    "function",
    "builtin_function_or_method",
    "instance",
    "_Feature"
   ],
   "window_display": false
  }
 },
 "nbformat": 4,
 "nbformat_minor": 5
}
