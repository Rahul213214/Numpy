{
 "cells": [
  {
   "cell_type": "markdown",
   "id": "29acefb4",
   "metadata": {},
   "source": [
    "# Copy VS View"
   ]
  },
  {
   "cell_type": "code",
   "execution_count": 1,
   "id": "7cdb45df",
   "metadata": {},
   "outputs": [],
   "source": [
    "import numpy as np"
   ]
  },
  {
   "cell_type": "code",
   "execution_count": 2,
   "id": "694d0d28",
   "metadata": {},
   "outputs": [
    {
     "name": "stdout",
     "output_type": "stream",
     "text": [
      "var:  [1 2 3 4]\n",
      "copy:  [1 2 3 4]\n"
     ]
    }
   ],
   "source": [
    "var=np.array([1,2,3,4])\n",
    "copy=var.copy()\n",
    "print(\"var: \",var)\n",
    "print(\"copy: \",copy)"
   ]
  },
  {
   "cell_type": "code",
   "execution_count": 4,
   "id": "a2f1ad96",
   "metadata": {},
   "outputs": [
    {
     "name": "stdout",
     "output_type": "stream",
     "text": [
      "var:  [ 1 30  3  4]\n",
      "copy:  [1 2 3 4]\n"
     ]
    }
   ],
   "source": [
    "var=np.array([1,2,3,4])\n",
    "copy=var.copy()\n",
    "var[1]=30\n",
    "print(\"var: \",var)\n",
    "print(\"copy: \",copy)"
   ]
  },
  {
   "cell_type": "code",
   "execution_count": 3,
   "id": "0239641b",
   "metadata": {},
   "outputs": [
    {
     "name": "stdout",
     "output_type": "stream",
     "text": [
      "var:  [1 2 3 4]\n",
      "view:  [1 2 3 4]\n"
     ]
    }
   ],
   "source": [
    "var=np.array([1,2,3,4])\n",
    "view=var.view()\n",
    "print(\"var: \",var)\n",
    "print(\"view: \",view)"
   ]
  },
  {
   "cell_type": "code",
   "execution_count": 5,
   "id": "4b614e56",
   "metadata": {},
   "outputs": [
    {
     "name": "stdout",
     "output_type": "stream",
     "text": [
      "var:  [  1 100   3   4]\n",
      "view:  [  1 100   3   4]\n"
     ]
    }
   ],
   "source": [
    "var=np.array([1,2,3,4])\n",
    "view=var.view()\n",
    "var[1]=100\n",
    "print(\"var: \",var)\n",
    "print(\"view: \",view)"
   ]
  },
  {
   "cell_type": "code",
   "execution_count": null,
   "id": "dc97b8bf",
   "metadata": {},
   "outputs": [],
   "source": []
  }
 ],
 "metadata": {
  "kernelspec": {
   "display_name": "Python 3 (ipykernel)",
   "language": "python",
   "name": "python3"
  },
  "language_info": {
   "codemirror_mode": {
    "name": "ipython",
    "version": 3
   },
   "file_extension": ".py",
   "mimetype": "text/x-python",
   "name": "python",
   "nbconvert_exporter": "python",
   "pygments_lexer": "ipython3",
   "version": "3.10.6"
  },
  "varInspector": {
   "cols": {
    "lenName": 16,
    "lenType": 16,
    "lenVar": 40
   },
   "kernels_config": {
    "python": {
     "delete_cmd_postfix": "",
     "delete_cmd_prefix": "del ",
     "library": "var_list.py",
     "varRefreshCmd": "print(var_dic_list())"
    },
    "r": {
     "delete_cmd_postfix": ") ",
     "delete_cmd_prefix": "rm(",
     "library": "var_list.r",
     "varRefreshCmd": "cat(var_dic_list()) "
    }
   },
   "types_to_exclude": [
    "module",
    "function",
    "builtin_function_or_method",
    "instance",
    "_Feature"
   ],
   "window_display": false
  }
 },
 "nbformat": 4,
 "nbformat_minor": 5
}
