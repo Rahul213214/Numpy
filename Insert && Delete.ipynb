{
 "cells": [
  {
   "cell_type": "markdown",
   "id": "1e2fd832",
   "metadata": {},
   "source": [
    "# Insert"
   ]
  },
  {
   "cell_type": "code",
   "execution_count": 1,
   "id": "0229be9a",
   "metadata": {},
   "outputs": [],
   "source": [
    "import numpy as np"
   ]
  },
  {
   "cell_type": "code",
   "execution_count": 4,
   "id": "e4f08abf",
   "metadata": {},
   "outputs": [
    {
     "name": "stdout",
     "output_type": "stream",
     "text": [
      "[1 2 3 4]\n",
      "<class 'numpy.ndarray'>\n",
      "[  1   2 200   3   4]\n",
      "[1 2 3 4]\n"
     ]
    }
   ],
   "source": [
    "var=np.array([1,2,3,4])\n",
    "print(var)\n",
    "print(type(var))\n",
    "\n",
    "v=np.insert(var, 2, 200)\n",
    "print(v)\n",
    "print(var)"
   ]
  },
  {
   "cell_type": "code",
   "execution_count": 6,
   "id": "e286d33f",
   "metadata": {},
   "outputs": [
    {
     "name": "stdout",
     "output_type": "stream",
     "text": [
      "[1 2 3 4 5 6 7 8]\n",
      "<class 'numpy.ndarray'>\n",
      "[  1   2 200   3   4 200   5   6 200   7   8]\n"
     ]
    }
   ],
   "source": [
    "var=np.array([1,2,3,4,5,6,7,8])\n",
    "print(var)\n",
    "print(type(var))\n",
    "\n",
    "v=np.insert(var, (2,4,6), 200)\n",
    "print(v)"
   ]
  },
  {
   "cell_type": "code",
   "execution_count": 7,
   "id": "f273deb3",
   "metadata": {},
   "outputs": [
    {
     "name": "stdout",
     "output_type": "stream",
     "text": [
      "[1 2 3 4]\n",
      "<class 'numpy.ndarray'>\n",
      "[1 2 6 3 4]\n"
     ]
    }
   ],
   "source": [
    "var=np.array([1,2,3,4])\n",
    "print(var)\n",
    "print(type(var))\n",
    "\n",
    "v=np.insert(var, 2, 6.8)\n",
    "print(v)"
   ]
  },
  {
   "cell_type": "code",
   "execution_count": 11,
   "id": "490303ae",
   "metadata": {},
   "outputs": [
    {
     "name": "stdout",
     "output_type": "stream",
     "text": [
      "[[1 2 3 4 5]\n",
      " [1 2 3 4 5]\n",
      " [6 6 6 6 6]]\n"
     ]
    }
   ],
   "source": [
    "var1=np.array([[1,2,3,4,5],[1,2,3,4,5]])\n",
    "\n",
    "v1=np.insert(var1, 2, 6.6, axis=0)\n",
    "print(v1)"
   ]
  },
  {
   "cell_type": "code",
   "execution_count": 13,
   "id": "09e7950b",
   "metadata": {},
   "outputs": [
    {
     "name": "stdout",
     "output_type": "stream",
     "text": [
      "[ 1  2  3  4  5  1  2  3  4  5 34]\n"
     ]
    }
   ],
   "source": [
    "var1=np.array([[1,2,3,4,5],[1,2,3,4,5]])\n",
    "\n",
    "v1=np.append(var1, 34)\n",
    "print(v1)"
   ]
  },
  {
   "cell_type": "markdown",
   "id": "0c263322",
   "metadata": {},
   "source": [
    "# Delete"
   ]
  },
  {
   "cell_type": "code",
   "execution_count": 14,
   "id": "51be812b",
   "metadata": {},
   "outputs": [
    {
     "name": "stdout",
     "output_type": "stream",
     "text": [
      "[ 2  4  6  8 10]\n",
      "[ 2  4  8 10]\n"
     ]
    }
   ],
   "source": [
    "var2=np.array([2,4,6,8,10])\n",
    "print(var2)\n",
    "d=np.delete(var2, 2)\n",
    "print(d)"
   ]
  },
  {
   "cell_type": "code",
   "execution_count": null,
   "id": "6549612e",
   "metadata": {},
   "outputs": [],
   "source": []
  }
 ],
 "metadata": {
  "kernelspec": {
   "display_name": "Python 3 (ipykernel)",
   "language": "python",
   "name": "python3"
  },
  "language_info": {
   "codemirror_mode": {
    "name": "ipython",
    "version": 3
   },
   "file_extension": ".py",
   "mimetype": "text/x-python",
   "name": "python",
   "nbconvert_exporter": "python",
   "pygments_lexer": "ipython3",
   "version": "3.10.6"
  },
  "varInspector": {
   "cols": {
    "lenName": 16,
    "lenType": 16,
    "lenVar": 40
   },
   "kernels_config": {
    "python": {
     "delete_cmd_postfix": "",
     "delete_cmd_prefix": "del ",
     "library": "var_list.py",
     "varRefreshCmd": "print(var_dic_list())"
    },
    "r": {
     "delete_cmd_postfix": ") ",
     "delete_cmd_prefix": "rm(",
     "library": "var_list.r",
     "varRefreshCmd": "cat(var_dic_list()) "
    }
   },
   "types_to_exclude": [
    "module",
    "function",
    "builtin_function_or_method",
    "instance",
    "_Feature"
   ],
   "window_display": false
  }
 },
 "nbformat": 4,
 "nbformat_minor": 5
}
