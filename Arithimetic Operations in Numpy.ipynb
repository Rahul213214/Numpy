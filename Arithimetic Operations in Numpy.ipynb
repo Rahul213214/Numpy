{
 "cells": [
  {
   "cell_type": "markdown",
   "id": "5a7d1d12",
   "metadata": {},
   "source": [
    "# \"Arithimetic Operations in Numpy.ipynb\""
   ]
  },
  {
   "cell_type": "code",
   "execution_count": 1,
   "id": "2f8624e6",
   "metadata": {},
   "outputs": [],
   "source": [
    "import numpy as np"
   ]
  },
  {
   "cell_type": "code",
   "execution_count": 2,
   "id": "078d04b2",
   "metadata": {},
   "outputs": [
    {
     "name": "stdout",
     "output_type": "stream",
     "text": [
      "[4 5 6 7 8]\n"
     ]
    }
   ],
   "source": [
    "var=np.array([1,2,3,4,5])\n",
    "var_add=var+3\n",
    "print(var_add)"
   ]
  },
  {
   "cell_type": "code",
   "execution_count": 4,
   "id": "fa31d85f",
   "metadata": {},
   "outputs": [
    {
     "name": "stdout",
     "output_type": "stream",
     "text": [
      "[-2 -1  0  1  2]\n"
     ]
    }
   ],
   "source": [
    "var=np.array([1,2,3,4,5])\n",
    "var_add=var-3\n",
    "print(var_add)"
   ]
  },
  {
   "cell_type": "code",
   "execution_count": 5,
   "id": "47118bfd",
   "metadata": {},
   "outputs": [
    {
     "name": "stdout",
     "output_type": "stream",
     "text": [
      "[ 3  6  9 12 15]\n"
     ]
    }
   ],
   "source": [
    "var=np.array([1,2,3,4,5])\n",
    "var_add=var*3\n",
    "print(var_add)"
   ]
  },
  {
   "cell_type": "code",
   "execution_count": 6,
   "id": "c8499a28",
   "metadata": {},
   "outputs": [
    {
     "name": "stdout",
     "output_type": "stream",
     "text": [
      "[0.33333333 0.66666667 1.         1.33333333 1.66666667]\n"
     ]
    }
   ],
   "source": [
    "var=np.array([1,2,3,4,5])\n",
    "var_add=var/3\n",
    "print(var_add)"
   ]
  },
  {
   "cell_type": "code",
   "execution_count": 7,
   "id": "ef6a24a1",
   "metadata": {},
   "outputs": [
    {
     "name": "stdout",
     "output_type": "stream",
     "text": [
      "[1 2 0 1 2]\n"
     ]
    }
   ],
   "source": [
    "var=np.array([1,2,3,4,5])\n",
    "var_add=var%3\n",
    "print(var_add)"
   ]
  },
  {
   "cell_type": "code",
   "execution_count": 12,
   "id": "f1700438",
   "metadata": {},
   "outputs": [
    {
     "name": "stdout",
     "output_type": "stream",
     "text": [
      "[ 3  5  7  9 11]\n"
     ]
    }
   ],
   "source": [
    "var1=np.array([1,2,3,4,5])\n",
    "var2=np.array([2,3,4,5,6])\n",
    "var_add=var1+var2\n",
    "print(var_add)"
   ]
  },
  {
   "cell_type": "code",
   "execution_count": 8,
   "id": "d27d3e41",
   "metadata": {},
   "outputs": [
    {
     "name": "stdout",
     "output_type": "stream",
     "text": [
      "[-1 -1 -1 -1 -1]\n"
     ]
    }
   ],
   "source": [
    "var1=np.array([1,2,3,4,5])\n",
    "var2=np.array([2,3,4,5,6])\n",
    "var_add=var1-var2\n",
    "print(var_add)"
   ]
  },
  {
   "cell_type": "code",
   "execution_count": 9,
   "id": "23d82a6e",
   "metadata": {},
   "outputs": [
    {
     "name": "stdout",
     "output_type": "stream",
     "text": [
      "[ 2  6 12 20 30]\n"
     ]
    }
   ],
   "source": [
    "var1=np.array([1,2,3,4,5])\n",
    "var2=np.array([2,3,4,5,6])\n",
    "var_add=var1*var2\n",
    "print(var_add)"
   ]
  },
  {
   "cell_type": "code",
   "execution_count": 10,
   "id": "743adaa5",
   "metadata": {},
   "outputs": [
    {
     "name": "stdout",
     "output_type": "stream",
     "text": [
      "[0.5        0.66666667 0.75       0.8        0.83333333]\n"
     ]
    }
   ],
   "source": [
    "var1=np.array([1,2,3,4,5])\n",
    "var2=np.array([2,3,4,5,6])\n",
    "var_add=var1/var2\n",
    "print(var_add)"
   ]
  },
  {
   "cell_type": "code",
   "execution_count": 11,
   "id": "023e550a",
   "metadata": {},
   "outputs": [
    {
     "name": "stdout",
     "output_type": "stream",
     "text": [
      "[1 2 3 4 5]\n"
     ]
    }
   ],
   "source": [
    "var1=np.array([1,2,3,4,5])\n",
    "var2=np.array([2,3,4,5,6])\n",
    "var_add=var1%var2\n",
    "print(var_add)"
   ]
  },
  {
   "cell_type": "code",
   "execution_count": null,
   "id": "6a630afa",
   "metadata": {},
   "outputs": [],
   "source": [
    "#****************************************"
   ]
  },
  {
   "cell_type": "code",
   "execution_count": 13,
   "id": "acb500bd",
   "metadata": {},
   "outputs": [
    {
     "name": "stdout",
     "output_type": "stream",
     "text": [
      "[ 3  5  7  9 11]\n"
     ]
    }
   ],
   "source": [
    "var1=np.array([1,2,3,4,5])\n",
    "var2=np.array([2,3,4,5,6])\n",
    "var_add=np.add(var1, var2)\n",
    "print(var_add)"
   ]
  },
  {
   "cell_type": "code",
   "execution_count": 14,
   "id": "ccc7a982",
   "metadata": {},
   "outputs": [
    {
     "name": "stdout",
     "output_type": "stream",
     "text": [
      "[4 5 6 7 8]\n"
     ]
    }
   ],
   "source": [
    "var1=np.array([1,2,3,4,5])\n",
    "\n",
    "var_add=np.add(var1, 3)\n",
    "print(var_add)"
   ]
  },
  {
   "cell_type": "code",
   "execution_count": 15,
   "id": "22ecd170",
   "metadata": {},
   "outputs": [
    {
     "name": "stdout",
     "output_type": "stream",
     "text": [
      "[-1 -1 -1 -1 -1]\n"
     ]
    }
   ],
   "source": [
    "var1=np.array([1,2,3,4,5])\n",
    "var2=np.array([2,3,4,5,6])\n",
    "var_add=np.subtract(var1, var2)\n",
    "print(var_add)"
   ]
  },
  {
   "cell_type": "code",
   "execution_count": 16,
   "id": "5e932664",
   "metadata": {},
   "outputs": [
    {
     "name": "stdout",
     "output_type": "stream",
     "text": [
      "[-2 -1  0  1  2]\n"
     ]
    }
   ],
   "source": [
    "var1=np.array([1,2,3,4,5])\n",
    "\n",
    "var_add=np.subtract(var1, 3)\n",
    "print(var_add)"
   ]
  },
  {
   "cell_type": "code",
   "execution_count": 18,
   "id": "ba6efa86",
   "metadata": {},
   "outputs": [
    {
     "name": "stdout",
     "output_type": "stream",
     "text": [
      "[ 2  6 12 20 30]\n"
     ]
    }
   ],
   "source": [
    "var1=np.array([1,2,3,4,5])\n",
    "var2=np.array([2,3,4,5,6])\n",
    "var_add=np.multiply(var1, var2)\n",
    "print(var_add)"
   ]
  },
  {
   "cell_type": "code",
   "execution_count": 19,
   "id": "e03c0253",
   "metadata": {},
   "outputs": [
    {
     "name": "stdout",
     "output_type": "stream",
     "text": [
      "[ 3  6  9 12 15]\n"
     ]
    }
   ],
   "source": [
    "var1=np.array([1,2,3,4,5])\n",
    "\n",
    "var_add=np.multiply(var1, 3)\n",
    "print(var_add)"
   ]
  },
  {
   "cell_type": "code",
   "execution_count": 20,
   "id": "f0266c66",
   "metadata": {},
   "outputs": [
    {
     "name": "stdout",
     "output_type": "stream",
     "text": [
      "[0.5        0.66666667 0.75       0.8        0.83333333]\n"
     ]
    }
   ],
   "source": [
    "var1=np.array([1,2,3,4,5])\n",
    "var2=np.array([2,3,4,5,6])\n",
    "var_add=np.divide(var1, var2)\n",
    "print(var_add)"
   ]
  },
  {
   "cell_type": "code",
   "execution_count": 21,
   "id": "aa580b29",
   "metadata": {},
   "outputs": [
    {
     "name": "stdout",
     "output_type": "stream",
     "text": [
      "[0.33333333 0.66666667 1.         1.33333333 1.66666667]\n"
     ]
    }
   ],
   "source": [
    "var1=np.array([1,2,3,4,5])\n",
    "\n",
    "var_add=np.divide(var1, 3)\n",
    "print(var_add)"
   ]
  },
  {
   "cell_type": "code",
   "execution_count": null,
   "id": "9baa2694",
   "metadata": {},
   "outputs": [],
   "source": []
  },
  {
   "cell_type": "markdown",
   "id": "404013e2",
   "metadata": {},
   "source": [
    "# 2D Array"
   ]
  },
  {
   "cell_type": "code",
   "execution_count": 22,
   "id": "6f53d346",
   "metadata": {},
   "outputs": [
    {
     "name": "stdout",
     "output_type": "stream",
     "text": [
      "[[10 12 14 16]\n",
      " [18 20 22 24]]\n"
     ]
    }
   ],
   "source": [
    "var21=np.array([[1,2,3,4],[5,6,7,8]])\n",
    "var22=np.array([[9,10,11,12],[13,14,15,16]])\n",
    "varadd2=var21+var22\n",
    "print(varadd2)"
   ]
  },
  {
   "cell_type": "code",
   "execution_count": 23,
   "id": "c8c706d3",
   "metadata": {},
   "outputs": [
    {
     "name": "stdout",
     "output_type": "stream",
     "text": [
      "[1 0 0 0 0]\n"
     ]
    }
   ],
   "source": [
    "var1=np.array([1,2,3,4,5])\n",
    "\n",
    "var_reci=np.reciprocal(var1)\n",
    "print(var_reci)"
   ]
  },
  {
   "cell_type": "code",
   "execution_count": null,
   "id": "780e8d1c",
   "metadata": {},
   "outputs": [],
   "source": []
  }
 ],
 "metadata": {
  "kernelspec": {
   "display_name": "Python 3 (ipykernel)",
   "language": "python",
   "name": "python3"
  },
  "language_info": {
   "codemirror_mode": {
    "name": "ipython",
    "version": 3
   },
   "file_extension": ".py",
   "mimetype": "text/x-python",
   "name": "python",
   "nbconvert_exporter": "python",
   "pygments_lexer": "ipython3",
   "version": "3.10.6"
  },
  "varInspector": {
   "cols": {
    "lenName": 16,
    "lenType": 16,
    "lenVar": 40
   },
   "kernels_config": {
    "python": {
     "delete_cmd_postfix": "",
     "delete_cmd_prefix": "del ",
     "library": "var_list.py",
     "varRefreshCmd": "print(var_dic_list())"
    },
    "r": {
     "delete_cmd_postfix": ") ",
     "delete_cmd_prefix": "rm(",
     "library": "var_list.r",
     "varRefreshCmd": "cat(var_dic_list()) "
    }
   },
   "types_to_exclude": [
    "module",
    "function",
    "builtin_function_or_method",
    "instance",
    "_Feature"
   ],
   "window_display": false
  }
 },
 "nbformat": 4,
 "nbformat_minor": 5
}
